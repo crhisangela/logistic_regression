{
 "cells": [
  {
   "cell_type": "markdown",
   "metadata": {},
   "source": [
    "# Breast cancer prediction | Logistic Regression"
   ]
  },
  {
   "cell_type": "markdown",
   "metadata": {},
   "source": [
    "Conducting predictive analysis with logistic regression using the scikit-learn breast cancer dataset. Leveraging the scikit-learn library, this study aims to employ logistic regression for predictive modeling on a dataset specifically designed for breast cancer research. By utilizing logistic regression, a statistical method well-suited for binary classification tasks, we seek to develop a predictive model capable of distinguishing between malignant and benign cases. The scikit-learn breast cancer dataset provides a rich set of features, enabling a comprehensive examination of the logistic regression model's performance in predicting breast cancer outcomes."
   ]
  },
  {
   "cell_type": "code",
   "execution_count": null,
   "metadata": {},
   "outputs": [],
   "source": [
    "import pandas as pd\n",
    "from sklearn.datasets import load_breast_cancer #dataset\n"
   ]
  }
 ],
 "metadata": {
  "kernelspec": {
   "display_name": "base",
   "language": "python",
   "name": "python3"
  },
  "language_info": {
   "name": "python",
   "version": "3.9.12"
  }
 },
 "nbformat": 4,
 "nbformat_minor": 2
}
